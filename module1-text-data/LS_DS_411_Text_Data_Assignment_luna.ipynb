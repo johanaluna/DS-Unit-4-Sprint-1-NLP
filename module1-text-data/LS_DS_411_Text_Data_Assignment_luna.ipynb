{
 "cells": [
  {
   "cell_type": "markdown",
   "metadata": {},
   "source": [
    "<img align=\"left\" src=\"https://lever-client-logos.s3.amazonaws.com/864372b1-534c-480e-acd5-9711f850815c-1524247202159.png\" width=200>\n",
    "<br></br>\n",
    "<br></br>\n",
    "\n",
    "# Natural Language Processing (NLP)\n",
    "## *Data Science Unit 4 Sprint 1 Assignment 1*\n",
    "\n",
    "Your goal in this assignment: find the attributes of the best & worst coffee shops in the dataset. The text is fairly raw: dates in the review, extra words in the `star_rating` column, etc. You'll probably want to clean that stuff up for a better analysis. \n",
    "\n",
    "Analyze the corpus of text using text visualizations of token frequency. Try cleaning the data as much as possible. Try the following techniques: \n",
    "- Lemmatization\n",
    "- Custom stopword removal\n",
    "\n",
    "Keep in mind the attributes of good tokens. Once you have a solid baseline, layer in the star rating in your visualization(s). Key part of this assignment - produce a write-up of the attributes of the best and worst coffee shops. Based on your analysis, what makes the best the best and the worst the worst. Use graphs and numbesr from your analysis to support your conclusions. There should be plenty of markdown cells! :coffee:"
   ]
  },
  {
   "cell_type": "code",
   "execution_count": 1,
   "metadata": {},
   "outputs": [
    {
     "data": {
      "image/jpeg": "[encoded data removed]",
      "text/html": [
       "\n",
       "        <iframe\n",
       "            width=\"400\"\n",
       "            height=\"300\"\n",
       "            src=\"https://www.youtube.com/embed/Jml7NVYm8cs\"\n",
       "            frameborder=\"0\"\n",
       "            allowfullscreen\n",
       "        ></iframe>\n",
       "        "
      ],
      "text/plain": [
       "<IPython.lib.display.YouTubeVideo at 0x10e5f9908>"
      ]
     },
     "execution_count": 1,
     "metadata": {},
     "output_type": "execute_result"
    }
   ],
   "source": [
    "from IPython.display import YouTubeVideo\n",
    "\n",
    "\n",
    "YouTubeVideo('Jml7NVYm8cs')"
   ]
  },
  {
   "cell_type": "code",
   "execution_count": 2,
   "metadata": {},
   "outputs": [
    {
     "data": {
      "text/plain": [
       "'/Users/andyjohana/Documents/LAMBDA_2019/DS-Unit-4-Sprint-1-NLP/module1-text-data'"
      ]
     },
     "execution_count": 2,
     "metadata": {},
     "output_type": "execute_result"
    }
   ],
   "source": [
    "%pwd"
   ]
  },
  {
   "cell_type": "code",
   "execution_count": 3,
   "metadata": {},
   "outputs": [
    {
     "data": {
      "text/html": [
       "<div>\n",
       "<style scoped>\n",
       "    .dataframe tbody tr th:only-of-type {\n",
       "        vertical-align: middle;\n",
       "    }\n",
       "\n",
       "    .dataframe tbody tr th {\n",
       "        vertical-align: top;\n",
       "    }\n",
       "\n",
       "    .dataframe thead th {\n",
       "        text-align: right;\n",
       "    }\n",
       "</style>\n",
       "<table border=\"1\" class=\"dataframe\">\n",
       "  <thead>\n",
       "    <tr style=\"text-align: right;\">\n",
       "      <th></th>\n",
       "      <th>coffee_shop_name</th>\n",
       "      <th>full_review_text</th>\n",
       "      <th>star_rating</th>\n",
       "    </tr>\n",
       "  </thead>\n",
       "  <tbody>\n",
       "    <tr>\n",
       "      <th>0</th>\n",
       "      <td>The Factory - Cafe With a Soul</td>\n",
       "      <td>11/25/2016 1 check-in Love love loved the atm...</td>\n",
       "      <td>5.0 star rating</td>\n",
       "    </tr>\n",
       "    <tr>\n",
       "      <th>1</th>\n",
       "      <td>The Factory - Cafe With a Soul</td>\n",
       "      <td>12/2/2016 Listed in Date Night: Austin, Ambia...</td>\n",
       "      <td>4.0 star rating</td>\n",
       "    </tr>\n",
       "    <tr>\n",
       "      <th>2</th>\n",
       "      <td>The Factory - Cafe With a Soul</td>\n",
       "      <td>11/30/2016 1 check-in Listed in Brunch Spots ...</td>\n",
       "      <td>4.0 star rating</td>\n",
       "    </tr>\n",
       "    <tr>\n",
       "      <th>3</th>\n",
       "      <td>The Factory - Cafe With a Soul</td>\n",
       "      <td>11/25/2016 Very cool decor! Good drinks Nice ...</td>\n",
       "      <td>2.0 star rating</td>\n",
       "    </tr>\n",
       "    <tr>\n",
       "      <th>4</th>\n",
       "      <td>The Factory - Cafe With a Soul</td>\n",
       "      <td>12/3/2016 1 check-in They are located within ...</td>\n",
       "      <td>4.0 star rating</td>\n",
       "    </tr>\n",
       "  </tbody>\n",
       "</table>\n",
       "</div>"
      ],
      "text/plain": [
       "                  coffee_shop_name  \\\n",
       "0  The Factory - Cafe With a Soul    \n",
       "1  The Factory - Cafe With a Soul    \n",
       "2  The Factory - Cafe With a Soul    \n",
       "3  The Factory - Cafe With a Soul    \n",
       "4  The Factory - Cafe With a Soul    \n",
       "\n",
       "                                    full_review_text        star_rating  \n",
       "0   11/25/2016 1 check-in Love love loved the atm...   5.0 star rating   \n",
       "1   12/2/2016 Listed in Date Night: Austin, Ambia...   4.0 star rating   \n",
       "2   11/30/2016 1 check-in Listed in Brunch Spots ...   4.0 star rating   \n",
       "3   11/25/2016 Very cool decor! Good drinks Nice ...   2.0 star rating   \n",
       "4   12/3/2016 1 check-in They are located within ...   4.0 star rating   "
      ]
     },
     "execution_count": 3,
     "metadata": {},
     "output_type": "execute_result"
    }
   ],
   "source": [
    "import pandas as pd\n",
    "\n",
    "url = \"./data/yelp_coffeeshop_review_data.csv\"\n",
    "\n",
    "shops = pd.read_csv(url)\n",
    "shops.head()"
   ]
  },
  {
   "cell_type": "code",
   "execution_count": 4,
   "metadata": {},
   "outputs": [
    {
     "data": {
      "text/plain": [
       "(7616, 3)"
      ]
     },
     "execution_count": 4,
     "metadata": {},
     "output_type": "execute_result"
    }
   ],
   "source": [
    "shops.shape"
   ]
  },
  {
   "cell_type": "code",
   "execution_count": 5,
   "metadata": {},
   "outputs": [
    {
     "data": {
      "text/plain": [
       "' 11/25/2016 1 check-in Love love loved the atmosphere! Every corner of the coffee shop had its own style, and there were swings!!! I ordered the matcha latte, and it was muy fantastico! Ordering and getting my drink were pretty streamlined. I ordered on an iPad, which included all beverage selections that ranged from coffee to wine, desired level of sweetness, and a checkout system. I got my latte within minutes!  I was hoping for a typical heart or feather on my latte, but found myself listing out all the possibilities of what the art may be. Any ideas? '"
      ]
     },
     "execution_count": 5,
     "metadata": {},
     "output_type": "execute_result"
    }
   ],
   "source": [
    "shops['full_review_text'][0]"
   ]
  },
  {
   "cell_type": "code",
   "execution_count": 6,
   "metadata": {},
   "outputs": [],
   "source": [
    "def wrangle(df):\n",
    "    df['full_review_text'] = df['full_review_text'].apply(lambda x: x.strip())\n",
    "    df['date'] = df['full_review_text'].apply(lambda x: x.split()[0])\n",
    "   \n",
    "    # Remove dates from review text\n",
    "    df['full_review_text'] = df['full_review_text'].apply(lambda x: ' '.join(x.split()[1:]))\n",
    "    df['star_rating'] = df['star_rating'].apply(lambda x: x.split('.')[0]).astype('int')\n",
    "    \n",
    "    "
   ]
  },
  {
   "cell_type": "code",
   "execution_count": 7,
   "metadata": {},
   "outputs": [],
   "source": [
    "wrangle(shops)"
   ]
  },
  {
   "cell_type": "code",
   "execution_count": 8,
   "metadata": {},
   "outputs": [
    {
     "data": {
      "text/html": [
       "<div>\n",
       "<style scoped>\n",
       "    .dataframe tbody tr th:only-of-type {\n",
       "        vertical-align: middle;\n",
       "    }\n",
       "\n",
       "    .dataframe tbody tr th {\n",
       "        vertical-align: top;\n",
       "    }\n",
       "\n",
       "    .dataframe thead th {\n",
       "        text-align: right;\n",
       "    }\n",
       "</style>\n",
       "<table border=\"1\" class=\"dataframe\">\n",
       "  <thead>\n",
       "    <tr style=\"text-align: right;\">\n",
       "      <th></th>\n",
       "      <th>coffee_shop_name</th>\n",
       "      <th>full_review_text</th>\n",
       "      <th>star_rating</th>\n",
       "      <th>date</th>\n",
       "    </tr>\n",
       "  </thead>\n",
       "  <tbody>\n",
       "    <tr>\n",
       "      <th>0</th>\n",
       "      <td>The Factory - Cafe With a Soul</td>\n",
       "      <td>1 check-in Love love loved the atmosphere! Eve...</td>\n",
       "      <td>5</td>\n",
       "      <td>11/25/2016</td>\n",
       "    </tr>\n",
       "    <tr>\n",
       "      <th>1</th>\n",
       "      <td>The Factory - Cafe With a Soul</td>\n",
       "      <td>Listed in Date Night: Austin, Ambiance in Aust...</td>\n",
       "      <td>4</td>\n",
       "      <td>12/2/2016</td>\n",
       "    </tr>\n",
       "    <tr>\n",
       "      <th>2</th>\n",
       "      <td>The Factory - Cafe With a Soul</td>\n",
       "      <td>1 check-in Listed in Brunch Spots I loved the ...</td>\n",
       "      <td>4</td>\n",
       "      <td>11/30/2016</td>\n",
       "    </tr>\n",
       "    <tr>\n",
       "      <th>3</th>\n",
       "      <td>The Factory - Cafe With a Soul</td>\n",
       "      <td>Very cool decor! Good drinks Nice seating Howe...</td>\n",
       "      <td>2</td>\n",
       "      <td>11/25/2016</td>\n",
       "    </tr>\n",
       "    <tr>\n",
       "      <th>4</th>\n",
       "      <td>The Factory - Cafe With a Soul</td>\n",
       "      <td>1 check-in They are located within the Northcr...</td>\n",
       "      <td>4</td>\n",
       "      <td>12/3/2016</td>\n",
       "    </tr>\n",
       "  </tbody>\n",
       "</table>\n",
       "</div>"
      ],
      "text/plain": [
       "                  coffee_shop_name  \\\n",
       "0  The Factory - Cafe With a Soul    \n",
       "1  The Factory - Cafe With a Soul    \n",
       "2  The Factory - Cafe With a Soul    \n",
       "3  The Factory - Cafe With a Soul    \n",
       "4  The Factory - Cafe With a Soul    \n",
       "\n",
       "                                    full_review_text  star_rating        date  \n",
       "0  1 check-in Love love loved the atmosphere! Eve...            5  11/25/2016  \n",
       "1  Listed in Date Night: Austin, Ambiance in Aust...            4   12/2/2016  \n",
       "2  1 check-in Listed in Brunch Spots I loved the ...            4  11/30/2016  \n",
       "3  Very cool decor! Good drinks Nice seating Howe...            2  11/25/2016  \n",
       "4  1 check-in They are located within the Northcr...            4   12/3/2016  "
      ]
     },
     "execution_count": 8,
     "metadata": {},
     "output_type": "execute_result"
    }
   ],
   "source": [
    "shops.head()"
   ]
  },
  {
   "cell_type": "code",
   "execution_count": 9,
   "metadata": {},
   "outputs": [],
   "source": [
    "import seaborn as sns\n",
    "sns.countplot(x='star_rating', data=shops);"
   ]
  },
  {
   "cell_type": "markdown",
   "metadata": {},
   "source": [
    "## How do we want to analyze these coffee shop tokens? \n",
    "\n",
    "- Overall Word / Token Count\n",
    "- View Counts by Rating \n",
    "- *Hint:* a 'bad' coffee shops has a rating betweeen 1 & 3 based on the distribution of ratings. A 'good' coffee shop is a 4 or 5. "
   ]
  },
  {
   "cell_type": "code",
   "execution_count": 10,
   "metadata": {},
   "outputs": [],
   "source": [
    "\n",
    "import spacy\n",
    "from spacy.tokenizer import Tokenizer\n",
    "\n",
    "nlp = spacy.load(\"en_core_web_lg\")\n",
    "\n",
    "# Tokenizer\n",
    "tokenizer = Tokenizer(nlp.vocab)"
   ]
  },
  {
   "cell_type": "code",
   "execution_count": 11,
   "metadata": {},
   "outputs": [
    {
     "data": {
      "text/plain": [
       "0       1 check-in Love love loved the atmosphere! Eve...\n",
       "1       Listed in Date Night: Austin, Ambiance in Aust...\n",
       "2       1 check-in Listed in Brunch Spots I loved the ...\n",
       "3       Very cool decor! Good drinks Nice seating Howe...\n",
       "4       1 check-in They are located within the Northcr...\n",
       "5       1 check-in Very cute cafe! I think from the mo...\n",
       "6       2 check-ins Listed in \"Nuptial Coffee Bliss!\",...\n",
       "7       2 check-ins Love this place! 5 stars for clean...\n",
       "8       1 check-in Ok, let's try this approach... Pros...\n",
       "9       3 check-ins This place has been shown on my so...\n",
       "10      1 check-in Listed in Americano This is not you...\n",
       "11      The store has A+ decoration, but honestly, the...\n",
       "12      1 check-in Listed in 2016 - The Third Time is ...\n",
       "13      This is such a cute little cafe! I've driven b...\n",
       "14      Beautiful eccentric coffee shop with a library...\n",
       "15      1 check-in Listed in In Search of Fantastic Co...\n",
       "16      Really love the atmosphere here! I frequent co...\n",
       "17      1 check-in Check out this video for a review! ...\n",
       "18      1 check-in Note: Do not come here if you're lo...\n",
       "19      So much aesthetic in this place. I love every ...\n",
       "20      1 check-in Checked out The Factory this past S...\n",
       "21      This place is so cute. New favorite coffee spo...\n",
       "22      Tried this new cafe spot on Burnet with a frie...\n",
       "23      The greeting of an atmosphere it feels I creat...\n",
       "24      Craft coffee drinks, tea, and beer/wine. Frien...\n",
       "25      Okay, so after visiting my friends in LA and t...\n",
       "26      1 check-in Guys, this place is amazing. Limite...\n",
       "27      What a fantastic atmosphere. I dropped in to c...\n",
       "28      This place is amazing! No wifi, but that's fin...\n",
       "29      I never write Yelp reviews, ever. But when I w...\n",
       "                              ...                        \n",
       "7586    Listed in So, you wanna eat in North Central A...\n",
       "7587    2 check-ins Listed in 100 Yelp Review Challeng...\n",
       "7588    6 check-ins Let me start by saying that since ...\n",
       "7589    This is a great restaurant. I think they do a ...\n",
       "7590    So today I tried this place. I have been in Au...\n",
       "7591    This is one of the best places to eat in Austi...\n",
       "7592    Good service. Good food. Prices are too expens...\n",
       "7593    1 check-in My favorite tea is the Jasmine blue...\n",
       "7594    1 check-in This is my favorite tea place in Au...\n",
       "7595    4 check-ins Listed in Vegan and the Beast I've...\n",
       "7596    I had the best experience at this restaurant! ...\n",
       "7597    1 check-in Listed in 2014 Yelp 100 Challenge H...\n",
       "7598    I went to the steeping room today for an early...\n",
       "7599    1 check-in I am someone that hates going out f...\n",
       "7600    Great service with unimaginative and uneventfu...\n",
       "7601    1 check-in Great selection of teas to purchase...\n",
       "7602    2 check-ins I go here almost every week for my...\n",
       "7603    1 check-in Went here for lunch today with Laur...\n",
       "7604    A few complaints about a wonderful little rest...\n",
       "7605    I got the Chipotle Chocolate Chai tea and it w...\n",
       "7606    Same great tea and food as their Domain locati...\n",
       "7607    This place is amazing! It's one of my favorite...\n",
       "7608    I come here when I visit my friend in Austin f...\n",
       "7609    1 check-in After noticing many friends have co...\n",
       "7610    Great food! I haven't had a meal I did not enj...\n",
       "7611    I actually step into this restaurant by chance...\n",
       "7612    Ok, The Steeping Room IS awesome. How do they ...\n",
       "7613    Loved coming here for tea, and the atmosphere ...\n",
       "7614    The food is just average. The booths didn't fe...\n",
       "7615    I finally stopped in for lunch with my colleag...\n",
       "Name: full_review_text, Length: 7616, dtype: object"
      ]
     },
     "execution_count": 11,
     "metadata": {},
     "output_type": "execute_result"
    }
   ],
   "source": [
    "shops['full_review_text']"
   ]
  },
  {
   "cell_type": "code",
   "execution_count": 12,
   "metadata": {},
   "outputs": [],
   "source": [
    "tokens = []\n",
    "# Create Pipe \n",
    "\n",
    "for doc in tokenizer.pipe(shops['full_review_text']):\n",
    "    \n",
    "    doc_tokens = []\n",
    "    \n",
    "    for token in doc:\n",
    "        if (token.is_stop == False) & (token.is_punct == False):\n",
    "            doc_tokens.append(token.text.lower())\n",
    "\n",
    "    tokens.append(doc_tokens)\n",
    "\n",
    "shops['tokens'] = tokens"
   ]
  },
  {
   "cell_type": "code",
   "execution_count": 13,
   "metadata": {},
   "outputs": [],
   "source": [
    "from collections import Counter\n",
    "def count(docs):\n",
    "\n",
    "    # Remember, shops['tokens'] has something like this\n",
    "    # 0    [ , 11/25/2016, 1, check-in, Love, love, loved...\n",
    "    # 1    [ , 12/2/2016, Listed, in, Date, Night:, Austi...\n",
    "    # 2    [ , 11/30/2016, 1, check-in, Listed, in, Brunc...\n",
    "    \n",
    "        word_counts = Counter()\n",
    "        appears_in = Counter()\n",
    "        \n",
    "        #length of dataframe \n",
    "        total_docs = len(docs) \n",
    "\n",
    "        #For each row in df['tokens']\n",
    "        for doc in docs:\n",
    "            \n",
    "            word_counts.update(doc)\n",
    "            appears_in.update(set(doc))\n",
    "            #Sets are unordered.Set elements are unique. Duplicate elements are not allowed.\n",
    "            #A set itself may be modified, but the elements contained in the set must be of an immutable type.\n",
    "\n",
    "        #temp : zip asigna a key to each value\n",
    "        #keys are the words and values the number of times a word appears\n",
    "        temp = zip(word_counts.keys(), word_counts.values())\n",
    "       \n",
    "        #Create a data frame called wc with two columns word and count \n",
    "        wc = pd.DataFrame(temp, columns = ['word', 'count'])\n",
    "        \n",
    "        wc['rank'] = wc['count'].rank(method='first', ascending=False)\n",
    "        total = wc['count'].sum()\n",
    "\n",
    "        wc['pct_total'] = wc['count'].apply(lambda x: x / total)\n",
    "        \n",
    "        wc = wc.sort_values(by='rank')\n",
    "        #cumsum() Return the cumulative sum of the elements along a given axis\n",
    "        wc['cul_pct_total'] = wc['pct_total'].cumsum()\n",
    "\n",
    "        t2 = zip(appears_in.keys(), appears_in.values())\n",
    "        ac = pd.DataFrame(t2, columns=['word', 'appears_in'])\n",
    "        wc = ac.merge(wc, on='word')\n",
    "\n",
    "        wc['appears_in_pct'] = wc['appears_in'].apply(lambda x: x / total_docs)\n",
    "        \n",
    "        return wc.sort_values(by='rank')"
   ]
  },
  {
   "cell_type": "code",
   "execution_count": 14,
   "metadata": {},
   "outputs": [],
   "source": [
    "wc = count(shops['tokens'])"
   ]
  },
  {
   "cell_type": "code",
   "execution_count": 15,
   "metadata": {},
   "outputs": [
    {
     "data": {
      "text/html": [
       "<div>\n",
       "<style scoped>\n",
       "    .dataframe tbody tr th:only-of-type {\n",
       "        vertical-align: middle;\n",
       "    }\n",
       "\n",
       "    .dataframe tbody tr th {\n",
       "        vertical-align: top;\n",
       "    }\n",
       "\n",
       "    .dataframe thead th {\n",
       "        text-align: right;\n",
       "    }\n",
       "</style>\n",
       "<table border=\"1\" class=\"dataframe\">\n",
       "  <thead>\n",
       "    <tr style=\"text-align: right;\">\n",
       "      <th></th>\n",
       "      <th>word</th>\n",
       "      <th>appears_in</th>\n",
       "      <th>count</th>\n",
       "      <th>rank</th>\n",
       "      <th>pct_total</th>\n",
       "      <th>cul_pct_total</th>\n",
       "      <th>appears_in_pct</th>\n",
       "    </tr>\n",
       "  </thead>\n",
       "  <tbody>\n",
       "    <tr>\n",
       "      <th>7</th>\n",
       "      <td>coffee</td>\n",
       "      <td>4210</td>\n",
       "      <td>8058</td>\n",
       "      <td>1.0</td>\n",
       "      <td>0.020622</td>\n",
       "      <td>0.020622</td>\n",
       "      <td>0.552784</td>\n",
       "    </tr>\n",
       "    <tr>\n",
       "      <th>122</th>\n",
       "      <td>place</td>\n",
       "      <td>3029</td>\n",
       "      <td>4264</td>\n",
       "      <td>2.0</td>\n",
       "      <td>0.010912</td>\n",
       "      <td>0.031534</td>\n",
       "      <td>0.397715</td>\n",
       "    </tr>\n",
       "    <tr>\n",
       "      <th>95</th>\n",
       "      <td>great</td>\n",
       "      <td>2438</td>\n",
       "      <td>3250</td>\n",
       "      <td>3.0</td>\n",
       "      <td>0.008317</td>\n",
       "      <td>0.039851</td>\n",
       "      <td>0.320116</td>\n",
       "    </tr>\n",
       "    <tr>\n",
       "      <th>259</th>\n",
       "      <td>it's</td>\n",
       "      <td>2061</td>\n",
       "      <td>3117</td>\n",
       "      <td>4.0</td>\n",
       "      <td>0.007977</td>\n",
       "      <td>0.047828</td>\n",
       "      <td>0.270614</td>\n",
       "    </tr>\n",
       "    <tr>\n",
       "      <th>162</th>\n",
       "      <td>like</td>\n",
       "      <td>2034</td>\n",
       "      <td>2902</td>\n",
       "      <td>5.0</td>\n",
       "      <td>0.007427</td>\n",
       "      <td>0.055255</td>\n",
       "      <td>0.267069</td>\n",
       "    </tr>\n",
       "  </tbody>\n",
       "</table>\n",
       "</div>"
      ],
      "text/plain": [
       "       word  appears_in  count  rank  pct_total  cul_pct_total  appears_in_pct\n",
       "7    coffee        4210   8058   1.0   0.020622       0.020622        0.552784\n",
       "122   place        3029   4264   2.0   0.010912       0.031534        0.397715\n",
       "95    great        2438   3250   3.0   0.008317       0.039851        0.320116\n",
       "259    it's        2061   3117   4.0   0.007977       0.047828        0.270614\n",
       "162    like        2034   2902   5.0   0.007427       0.055255        0.267069"
      ]
     },
     "execution_count": 15,
     "metadata": {},
     "output_type": "execute_result"
    }
   ],
   "source": [
    "wc.head()"
   ]
  },
  {
   "cell_type": "code",
   "execution_count": 16,
   "metadata": {},
   "outputs": [
    {
     "data": {
      "image/png": "[encoded data removed]",
      "text/plain": [
       "<Figure size 432x288 with 1 Axes>"
      ]
     },
     "metadata": {
      "needs_background": "light"
     },
     "output_type": "display_data"
    }
   ],
   "source": [
    "import squarify\n",
    "import matplotlib.pyplot as plt\n",
    "\n",
    "wc_top20 = wc[wc['rank'] <= 20]\n",
    "\n",
    "squarify.plot(sizes=wc_top20['pct_total'], label=wc_top20['word'], alpha=.8 )\n",
    "plt.axis('off')\n",
    "plt.show()"
   ]
  },
  {
   "cell_type": "code",
   "execution_count": 17,
   "metadata": {},
   "outputs": [],
   "source": [
    "wc = count(shops['tokens'])"
   ]
  },
  {
   "cell_type": "code",
   "execution_count": 18,
   "metadata": {},
   "outputs": [
    {
     "data": {
      "text/html": [
       "<div>\n",
       "<style scoped>\n",
       "    .dataframe tbody tr th:only-of-type {\n",
       "        vertical-align: middle;\n",
       "    }\n",
       "\n",
       "    .dataframe tbody tr th {\n",
       "        vertical-align: top;\n",
       "    }\n",
       "\n",
       "    .dataframe thead th {\n",
       "        text-align: right;\n",
       "    }\n",
       "</style>\n",
       "<table border=\"1\" class=\"dataframe\">\n",
       "  <thead>\n",
       "    <tr style=\"text-align: right;\">\n",
       "      <th></th>\n",
       "      <th>word</th>\n",
       "      <th>appears_in</th>\n",
       "      <th>count</th>\n",
       "      <th>rank</th>\n",
       "      <th>pct_total</th>\n",
       "      <th>cul_pct_total</th>\n",
       "      <th>appears_in_pct</th>\n",
       "    </tr>\n",
       "  </thead>\n",
       "  <tbody>\n",
       "    <tr>\n",
       "      <th>7</th>\n",
       "      <td>coffee</td>\n",
       "      <td>4210</td>\n",
       "      <td>8058</td>\n",
       "      <td>1.0</td>\n",
       "      <td>0.020622</td>\n",
       "      <td>0.020622</td>\n",
       "      <td>0.552784</td>\n",
       "    </tr>\n",
       "    <tr>\n",
       "      <th>122</th>\n",
       "      <td>place</td>\n",
       "      <td>3029</td>\n",
       "      <td>4264</td>\n",
       "      <td>2.0</td>\n",
       "      <td>0.010912</td>\n",
       "      <td>0.031534</td>\n",
       "      <td>0.397715</td>\n",
       "    </tr>\n",
       "    <tr>\n",
       "      <th>95</th>\n",
       "      <td>great</td>\n",
       "      <td>2438</td>\n",
       "      <td>3250</td>\n",
       "      <td>3.0</td>\n",
       "      <td>0.008317</td>\n",
       "      <td>0.039851</td>\n",
       "      <td>0.320116</td>\n",
       "    </tr>\n",
       "    <tr>\n",
       "      <th>259</th>\n",
       "      <td>it's</td>\n",
       "      <td>2061</td>\n",
       "      <td>3117</td>\n",
       "      <td>4.0</td>\n",
       "      <td>0.007977</td>\n",
       "      <td>0.047828</td>\n",
       "      <td>0.270614</td>\n",
       "    </tr>\n",
       "    <tr>\n",
       "      <th>162</th>\n",
       "      <td>like</td>\n",
       "      <td>2034</td>\n",
       "      <td>2902</td>\n",
       "      <td>5.0</td>\n",
       "      <td>0.007427</td>\n",
       "      <td>0.055255</td>\n",
       "      <td>0.267069</td>\n",
       "    </tr>\n",
       "  </tbody>\n",
       "</table>\n",
       "</div>"
      ],
      "text/plain": [
       "       word  appears_in  count  rank  pct_total  cul_pct_total  appears_in_pct\n",
       "7    coffee        4210   8058   1.0   0.020622       0.020622        0.552784\n",
       "122   place        3029   4264   2.0   0.010912       0.031534        0.397715\n",
       "95    great        2438   3250   3.0   0.008317       0.039851        0.320116\n",
       "259    it's        2061   3117   4.0   0.007977       0.047828        0.270614\n",
       "162    like        2034   2902   5.0   0.007427       0.055255        0.267069"
      ]
     },
     "execution_count": 18,
     "metadata": {},
     "output_type": "execute_result"
    }
   ],
   "source": [
    "wc.head()"
   ]
  },
  {
   "cell_type": "code",
   "execution_count": 19,
   "metadata": {},
   "outputs": [],
   "source": [
    "##ADD MORE WORDS\n",
    "STOP_WORDS = nlp.Defaults.stop_words.union([\"i've\", \"it's\",\"i'm\", \"-\", \"don't\", 'shop', '1', \"check-in\", 'coffee','coffee.'])"
   ]
  },
  {
   "cell_type": "code",
   "execution_count": 37,
   "metadata": {},
   "outputs": [],
   "source": [
    "# nlp.Defaults.stop_words.union()"
   ]
  },
  {
   "cell_type": "code",
   "execution_count": 20,
   "metadata": {},
   "outputs": [],
   "source": [
    "# from nltk.stem import PorterStemmer\n",
    "\n",
    "# ps = PorterStemmer()\n"
   ]
  },
  {
   "cell_type": "code",
   "execution_count": 41,
   "metadata": {},
   "outputs": [],
   "source": [
    "#STEMMING\n",
    "def lemmas(df):\n",
    "    \n",
    "    sl = []\n",
    "    doc = nlp(df)\n",
    "\n",
    "    for token in doc: \n",
    "        if ((token.text not in STOP_WORDS) and (token.is_punct == False) and (token.pos_!= 'PRON') and(token.like_num == False)):\n",
    "            sl.append(token.lemma_)\n",
    "\n",
    "    return sl\n",
    "\n"
   ]
  },
  {
   "cell_type": "code",
   "execution_count": 42,
   "metadata": {},
   "outputs": [],
   "source": [
    "shops['lemmas'] = shops['full_review_text'].apply(lemmas)"
   ]
  },
  {
   "cell_type": "code",
   "execution_count": 43,
   "metadata": {},
   "outputs": [
    {
     "data": {
      "text/html": [
       "<div>\n",
       "<style scoped>\n",
       "    .dataframe tbody tr th:only-of-type {\n",
       "        vertical-align: middle;\n",
       "    }\n",
       "\n",
       "    .dataframe tbody tr th {\n",
       "        vertical-align: top;\n",
       "    }\n",
       "\n",
       "    .dataframe thead th {\n",
       "        text-align: right;\n",
       "    }\n",
       "</style>\n",
       "<table border=\"1\" class=\"dataframe\">\n",
       "  <thead>\n",
       "    <tr style=\"text-align: right;\">\n",
       "      <th></th>\n",
       "      <th>coffee_shop_name</th>\n",
       "      <th>full_review_text</th>\n",
       "      <th>star_rating</th>\n",
       "      <th>date</th>\n",
       "      <th>tokens</th>\n",
       "      <th>lemmas</th>\n",
       "      <th>review_rating</th>\n",
       "    </tr>\n",
       "  </thead>\n",
       "  <tbody>\n",
       "    <tr>\n",
       "      <th>0</th>\n",
       "      <td>The Factory - Cafe With a Soul</td>\n",
       "      <td>1 check-in Love love loved the atmosphere! Eve...</td>\n",
       "      <td>5</td>\n",
       "      <td>11/25/2016</td>\n",
       "      <td>[1, check-in, love, love, loved, atmosphere!, ...</td>\n",
       "      <td>[check, love, love, love, atmosphere, every, c...</td>\n",
       "      <td>good</td>\n",
       "    </tr>\n",
       "    <tr>\n",
       "      <th>1</th>\n",
       "      <td>The Factory - Cafe With a Soul</td>\n",
       "      <td>Listed in Date Night: Austin, Ambiance in Aust...</td>\n",
       "      <td>4</td>\n",
       "      <td>12/2/2016</td>\n",
       "      <td>[listed, date, night:, austin,, ambiance, aust...</td>\n",
       "      <td>[list, Date, Night, Austin, Ambiance, Austin, ...</td>\n",
       "      <td>good</td>\n",
       "    </tr>\n",
       "    <tr>\n",
       "      <th>2</th>\n",
       "      <td>The Factory - Cafe With a Soul</td>\n",
       "      <td>1 check-in Listed in Brunch Spots I loved the ...</td>\n",
       "      <td>4</td>\n",
       "      <td>11/30/2016</td>\n",
       "      <td>[1, check-in, listed, brunch, spots, loved, ec...</td>\n",
       "      <td>[check, list, Brunch, Spots, love, eclectic, h...</td>\n",
       "      <td>good</td>\n",
       "    </tr>\n",
       "    <tr>\n",
       "      <th>3</th>\n",
       "      <td>The Factory - Cafe With a Soul</td>\n",
       "      <td>Very cool decor! Good drinks Nice seating Howe...</td>\n",
       "      <td>2</td>\n",
       "      <td>11/25/2016</td>\n",
       "      <td>[cool, decor!, good, drinks, nice, seating, ho...</td>\n",
       "      <td>[very, cool, decor, good, drink, nice, seating...</td>\n",
       "      <td>bad</td>\n",
       "    </tr>\n",
       "    <tr>\n",
       "      <th>4</th>\n",
       "      <td>The Factory - Cafe With a Soul</td>\n",
       "      <td>1 check-in They are located within the Northcr...</td>\n",
       "      <td>4</td>\n",
       "      <td>12/3/2016</td>\n",
       "      <td>[1, check-in, located, northcross, mall, shopp...</td>\n",
       "      <td>[check, locate, Northcross, mall, shopping, ce...</td>\n",
       "      <td>good</td>\n",
       "    </tr>\n",
       "  </tbody>\n",
       "</table>\n",
       "</div>"
      ],
      "text/plain": [
       "                  coffee_shop_name  \\\n",
       "0  The Factory - Cafe With a Soul    \n",
       "1  The Factory - Cafe With a Soul    \n",
       "2  The Factory - Cafe With a Soul    \n",
       "3  The Factory - Cafe With a Soul    \n",
       "4  The Factory - Cafe With a Soul    \n",
       "\n",
       "                                    full_review_text  star_rating        date  \\\n",
       "0  1 check-in Love love loved the atmosphere! Eve...            5  11/25/2016   \n",
       "1  Listed in Date Night: Austin, Ambiance in Aust...            4   12/2/2016   \n",
       "2  1 check-in Listed in Brunch Spots I loved the ...            4  11/30/2016   \n",
       "3  Very cool decor! Good drinks Nice seating Howe...            2  11/25/2016   \n",
       "4  1 check-in They are located within the Northcr...            4   12/3/2016   \n",
       "\n",
       "                                              tokens  \\\n",
       "0  [1, check-in, love, love, loved, atmosphere!, ...   \n",
       "1  [listed, date, night:, austin,, ambiance, aust...   \n",
       "2  [1, check-in, listed, brunch, spots, loved, ec...   \n",
       "3  [cool, decor!, good, drinks, nice, seating, ho...   \n",
       "4  [1, check-in, located, northcross, mall, shopp...   \n",
       "\n",
       "                                              lemmas review_rating  \n",
       "0  [check, love, love, love, atmosphere, every, c...          good  \n",
       "1  [list, Date, Night, Austin, Ambiance, Austin, ...          good  \n",
       "2  [check, list, Brunch, Spots, love, eclectic, h...          good  \n",
       "3  [very, cool, decor, good, drink, nice, seating...           bad  \n",
       "4  [check, locate, Northcross, mall, shopping, ce...          good  "
      ]
     },
     "execution_count": 43,
     "metadata": {},
     "output_type": "execute_result"
    }
   ],
   "source": [
    "shops.head()"
   ]
  },
  {
   "cell_type": "code",
   "execution_count": 44,
   "metadata": {},
   "outputs": [
    {
     "data": {
      "image/png": "[encoded data removed]",
      "text/plain": [
       "<Figure size 432x288 with 1 Axes>"
      ]
     },
     "metadata": {
      "needs_background": "light"
     },
     "output_type": "display_data"
    }
   ],
   "source": [
    "wc_stlm = count(shops['lemmas'])\n",
    "wc_stlm_20 = wc_stlm[wc_stlm['rank'] <= 20]\n",
    "\n",
    "squarify.plot(sizes=wc_stlm_20['pct_total'], label=wc_stlm_20['word'], alpha=.8 )\n",
    "plt.axis('off')\n",
    "plt.show()"
   ]
  },
  {
   "cell_type": "code",
   "execution_count": 45,
   "metadata": {},
   "outputs": [
    {
     "data": {
      "text/html": [
       "<div>\n",
       "<style scoped>\n",
       "    .dataframe tbody tr th:only-of-type {\n",
       "        vertical-align: middle;\n",
       "    }\n",
       "\n",
       "    .dataframe tbody tr th {\n",
       "        vertical-align: top;\n",
       "    }\n",
       "\n",
       "    .dataframe thead th {\n",
       "        text-align: right;\n",
       "    }\n",
       "</style>\n",
       "<table border=\"1\" class=\"dataframe\">\n",
       "  <thead>\n",
       "    <tr style=\"text-align: right;\">\n",
       "      <th></th>\n",
       "      <th>word</th>\n",
       "      <th>appears_in</th>\n",
       "      <th>count</th>\n",
       "      <th>rank</th>\n",
       "      <th>pct_total</th>\n",
       "      <th>cul_pct_total</th>\n",
       "      <th>appears_in_pct</th>\n",
       "    </tr>\n",
       "  </thead>\n",
       "  <tbody>\n",
       "    <tr>\n",
       "      <th>128</th>\n",
       "      <td>the</td>\n",
       "      <td>3945</td>\n",
       "      <td>6915</td>\n",
       "      <td>1.0</td>\n",
       "      <td>0.018756</td>\n",
       "      <td>0.018756</td>\n",
       "      <td>0.517988</td>\n",
       "    </tr>\n",
       "    <tr>\n",
       "      <th>115</th>\n",
       "      <td>place</td>\n",
       "      <td>3879</td>\n",
       "      <td>6026</td>\n",
       "      <td>2.0</td>\n",
       "      <td>0.016345</td>\n",
       "      <td>0.035101</td>\n",
       "      <td>0.509322</td>\n",
       "    </tr>\n",
       "    <tr>\n",
       "      <th>173</th>\n",
       "      <td>good</td>\n",
       "      <td>3590</td>\n",
       "      <td>5393</td>\n",
       "      <td>3.0</td>\n",
       "      <td>0.014628</td>\n",
       "      <td>0.049729</td>\n",
       "      <td>0.471376</td>\n",
       "    </tr>\n",
       "  </tbody>\n",
       "</table>\n",
       "</div>"
      ],
      "text/plain": [
       "      word  appears_in  count  rank  pct_total  cul_pct_total  appears_in_pct\n",
       "128    the        3945   6915   1.0   0.018756       0.018756        0.517988\n",
       "115  place        3879   6026   2.0   0.016345       0.035101        0.509322\n",
       "173   good        3590   5393   3.0   0.014628       0.049729        0.471376"
      ]
     },
     "execution_count": 45,
     "metadata": {},
     "output_type": "execute_result"
    }
   ],
   "source": [
    "wc_stlm.head(3)"
   ]
  },
  {
   "cell_type": "code",
   "execution_count": 46,
   "metadata": {},
   "outputs": [
    {
     "data": {
      "image/png": "[encoded data removed]",
      "text/plain": [
       "<Figure size 432x288 with 1 Axes>"
      ]
     },
     "metadata": {
      "needs_background": "light"
     },
     "output_type": "display_data"
    }
   ],
   "source": [
    "sns.lineplot(x='rank', y='cul_pct_total', data=wc_stlm);"
   ]
  },
  {
   "cell_type": "markdown",
   "metadata": {},
   "source": [
    "## Can visualize the words with the greatest difference in counts between 'good' & 'bad'?\n",
    "\n",
    "Couple Notes: \n",
    "- Rel. freq. instead of absolute counts b/c of different numbers of reviews\n",
    "- Only look at the top 5-10 words with the greatest differences\n"
   ]
  },
  {
   "cell_type": "code",
   "execution_count": 47,
   "metadata": {},
   "outputs": [],
   "source": [
    "shops['review_rating'] = shops['star_rating'].replace({1:'bad', 2:'bad', 3:'bad', 4:'good', 5:'good'})"
   ]
  },
  {
   "cell_type": "code",
   "execution_count": 48,
   "metadata": {},
   "outputs": [],
   "source": [
    "# Separate good reviews from bad reviews\n",
    "good = count(shops[shops['review_rating'] == 'good']['lemmas'])\n",
    "bad = count(shops[shops['review_rating'] == 'bad']['lemmas'])"
   ]
  },
  {
   "cell_type": "code",
   "execution_count": 49,
   "metadata": {},
   "outputs": [
    {
     "data": {
      "text/html": [
       "<div>\n",
       "<style scoped>\n",
       "    .dataframe tbody tr th:only-of-type {\n",
       "        vertical-align: middle;\n",
       "    }\n",
       "\n",
       "    .dataframe tbody tr th {\n",
       "        vertical-align: top;\n",
       "    }\n",
       "\n",
       "    .dataframe thead th {\n",
       "        text-align: right;\n",
       "    }\n",
       "</style>\n",
       "<table border=\"1\" class=\"dataframe\">\n",
       "  <thead>\n",
       "    <tr style=\"text-align: right;\">\n",
       "      <th></th>\n",
       "      <th>word</th>\n",
       "      <th>appears_in</th>\n",
       "      <th>count</th>\n",
       "      <th>rank</th>\n",
       "      <th>pct_total</th>\n",
       "      <th>cul_pct_total</th>\n",
       "      <th>appears_in_pct</th>\n",
       "    </tr>\n",
       "  </thead>\n",
       "  <tbody>\n",
       "    <tr>\n",
       "      <th>128</th>\n",
       "      <td>the</td>\n",
       "      <td>3134</td>\n",
       "      <td>5434</td>\n",
       "      <td>1.0</td>\n",
       "      <td>0.018869</td>\n",
       "      <td>0.018869</td>\n",
       "      <td>0.510423</td>\n",
       "    </tr>\n",
       "    <tr>\n",
       "      <th>115</th>\n",
       "      <td>place</td>\n",
       "      <td>3125</td>\n",
       "      <td>4797</td>\n",
       "      <td>2.0</td>\n",
       "      <td>0.016657</td>\n",
       "      <td>0.035526</td>\n",
       "      <td>0.508958</td>\n",
       "    </tr>\n",
       "    <tr>\n",
       "      <th>206</th>\n",
       "      <td>good</td>\n",
       "      <td>2948</td>\n",
       "      <td>4400</td>\n",
       "      <td>3.0</td>\n",
       "      <td>0.015279</td>\n",
       "      <td>0.050805</td>\n",
       "      <td>0.480130</td>\n",
       "    </tr>\n",
       "    <tr>\n",
       "      <th>87</th>\n",
       "      <td>great</td>\n",
       "      <td>2497</td>\n",
       "      <td>3459</td>\n",
       "      <td>4.0</td>\n",
       "      <td>0.012011</td>\n",
       "      <td>0.062816</td>\n",
       "      <td>0.406678</td>\n",
       "    </tr>\n",
       "    <tr>\n",
       "      <th>24</th>\n",
       "      <td>check</td>\n",
       "      <td>2686</td>\n",
       "      <td>2940</td>\n",
       "      <td>5.0</td>\n",
       "      <td>0.010209</td>\n",
       "      <td>0.073024</td>\n",
       "      <td>0.437459</td>\n",
       "    </tr>\n",
       "    <tr>\n",
       "      <th>188</th>\n",
       "      <td>like</td>\n",
       "      <td>1677</td>\n",
       "      <td>2434</td>\n",
       "      <td>6.0</td>\n",
       "      <td>0.008452</td>\n",
       "      <td>0.081476</td>\n",
       "      <td>0.273127</td>\n",
       "    </tr>\n",
       "    <tr>\n",
       "      <th>20</th>\n",
       "      <td>love</td>\n",
       "      <td>1590</td>\n",
       "      <td>2089</td>\n",
       "      <td>7.0</td>\n",
       "      <td>0.007254</td>\n",
       "      <td>0.088730</td>\n",
       "      <td>0.258958</td>\n",
       "    </tr>\n",
       "    <tr>\n",
       "      <th>384</th>\n",
       "      <td>come</td>\n",
       "      <td>1481</td>\n",
       "      <td>1988</td>\n",
       "      <td>8.0</td>\n",
       "      <td>0.006903</td>\n",
       "      <td>0.095633</td>\n",
       "      <td>0.241205</td>\n",
       "    </tr>\n",
       "    <tr>\n",
       "      <th>52</th>\n",
       "      <td>Austin</td>\n",
       "      <td>1543</td>\n",
       "      <td>1986</td>\n",
       "      <td>9.0</td>\n",
       "      <td>0.006896</td>\n",
       "      <td>0.102529</td>\n",
       "      <td>0.251303</td>\n",
       "    </tr>\n",
       "    <tr>\n",
       "      <th>389</th>\n",
       "      <td>time</td>\n",
       "      <td>1344</td>\n",
       "      <td>1775</td>\n",
       "      <td>10.0</td>\n",
       "      <td>0.006163</td>\n",
       "      <td>0.108693</td>\n",
       "      <td>0.218893</td>\n",
       "    </tr>\n",
       "  </tbody>\n",
       "</table>\n",
       "</div>"
      ],
      "text/plain": [
       "       word  appears_in  count  rank  pct_total  cul_pct_total  appears_in_pct\n",
       "128     the        3134   5434   1.0   0.018869       0.018869        0.510423\n",
       "115   place        3125   4797   2.0   0.016657       0.035526        0.508958\n",
       "206    good        2948   4400   3.0   0.015279       0.050805        0.480130\n",
       "87    great        2497   3459   4.0   0.012011       0.062816        0.406678\n",
       "24    check        2686   2940   5.0   0.010209       0.073024        0.437459\n",
       "188    like        1677   2434   6.0   0.008452       0.081476        0.273127\n",
       "20     love        1590   2089   7.0   0.007254       0.088730        0.258958\n",
       "384    come        1481   1988   8.0   0.006903       0.095633        0.241205\n",
       "52   Austin        1543   1986   9.0   0.006896       0.102529        0.251303\n",
       "389    time        1344   1775  10.0   0.006163       0.108693        0.218893"
      ]
     },
     "execution_count": 49,
     "metadata": {},
     "output_type": "execute_result"
    }
   ],
   "source": [
    "good.head(10)"
   ]
  },
  {
   "cell_type": "code",
   "execution_count": 50,
   "metadata": {},
   "outputs": [
    {
     "data": {
      "text/html": [
       "<div>\n",
       "<style scoped>\n",
       "    .dataframe tbody tr th:only-of-type {\n",
       "        vertical-align: middle;\n",
       "    }\n",
       "\n",
       "    .dataframe tbody tr th {\n",
       "        vertical-align: top;\n",
       "    }\n",
       "\n",
       "    .dataframe thead th {\n",
       "        text-align: right;\n",
       "    }\n",
       "</style>\n",
       "<table border=\"1\" class=\"dataframe\">\n",
       "  <thead>\n",
       "    <tr style=\"text-align: right;\">\n",
       "      <th></th>\n",
       "      <th>word</th>\n",
       "      <th>appears_in</th>\n",
       "      <th>count</th>\n",
       "      <th>rank</th>\n",
       "      <th>pct_total</th>\n",
       "      <th>cul_pct_total</th>\n",
       "      <th>appears_in_pct</th>\n",
       "    </tr>\n",
       "  </thead>\n",
       "  <tbody>\n",
       "    <tr>\n",
       "      <th>136</th>\n",
       "      <td>the</td>\n",
       "      <td>811</td>\n",
       "      <td>1481</td>\n",
       "      <td>1.0</td>\n",
       "      <td>0.018353</td>\n",
       "      <td>0.018353</td>\n",
       "      <td>0.549458</td>\n",
       "    </tr>\n",
       "    <tr>\n",
       "      <th>8</th>\n",
       "      <td>place</td>\n",
       "      <td>754</td>\n",
       "      <td>1229</td>\n",
       "      <td>2.0</td>\n",
       "      <td>0.015230</td>\n",
       "      <td>0.033583</td>\n",
       "      <td>0.510840</td>\n",
       "    </tr>\n",
       "    <tr>\n",
       "      <th>22</th>\n",
       "      <td>good</td>\n",
       "      <td>642</td>\n",
       "      <td>993</td>\n",
       "      <td>3.0</td>\n",
       "      <td>0.012306</td>\n",
       "      <td>0.045889</td>\n",
       "      <td>0.434959</td>\n",
       "    </tr>\n",
       "    <tr>\n",
       "      <th>6</th>\n",
       "      <td>like</td>\n",
       "      <td>596</td>\n",
       "      <td>945</td>\n",
       "      <td>4.0</td>\n",
       "      <td>0.011711</td>\n",
       "      <td>0.057600</td>\n",
       "      <td>0.403794</td>\n",
       "    </tr>\n",
       "    <tr>\n",
       "      <th>106</th>\n",
       "      <td>order</td>\n",
       "      <td>431</td>\n",
       "      <td>764</td>\n",
       "      <td>5.0</td>\n",
       "      <td>0.009468</td>\n",
       "      <td>0.067067</td>\n",
       "      <td>0.292005</td>\n",
       "    </tr>\n",
       "    <tr>\n",
       "      <th>40</th>\n",
       "      <td>come</td>\n",
       "      <td>452</td>\n",
       "      <td>651</td>\n",
       "      <td>6.0</td>\n",
       "      <td>0.008067</td>\n",
       "      <td>0.075135</td>\n",
       "      <td>0.306233</td>\n",
       "    </tr>\n",
       "    <tr>\n",
       "      <th>39</th>\n",
       "      <td>drink</td>\n",
       "      <td>363</td>\n",
       "      <td>611</td>\n",
       "      <td>7.0</td>\n",
       "      <td>0.007572</td>\n",
       "      <td>0.082706</td>\n",
       "      <td>0.245935</td>\n",
       "    </tr>\n",
       "    <tr>\n",
       "      <th>470</th>\n",
       "      <td>time</td>\n",
       "      <td>419</td>\n",
       "      <td>607</td>\n",
       "      <td>8.0</td>\n",
       "      <td>0.007522</td>\n",
       "      <td>0.090229</td>\n",
       "      <td>0.283875</td>\n",
       "    </tr>\n",
       "    <tr>\n",
       "      <th>56</th>\n",
       "      <td>check</td>\n",
       "      <td>489</td>\n",
       "      <td>527</td>\n",
       "      <td>9.0</td>\n",
       "      <td>0.006531</td>\n",
       "      <td>0.096759</td>\n",
       "      <td>0.331301</td>\n",
       "    </tr>\n",
       "    <tr>\n",
       "      <th>150</th>\n",
       "      <td>food</td>\n",
       "      <td>321</td>\n",
       "      <td>499</td>\n",
       "      <td>10.0</td>\n",
       "      <td>0.006184</td>\n",
       "      <td>0.102943</td>\n",
       "      <td>0.217480</td>\n",
       "    </tr>\n",
       "  </tbody>\n",
       "</table>\n",
       "</div>"
      ],
      "text/plain": [
       "      word  appears_in  count  rank  pct_total  cul_pct_total  appears_in_pct\n",
       "136    the         811   1481   1.0   0.018353       0.018353        0.549458\n",
       "8    place         754   1229   2.0   0.015230       0.033583        0.510840\n",
       "22    good         642    993   3.0   0.012306       0.045889        0.434959\n",
       "6     like         596    945   4.0   0.011711       0.057600        0.403794\n",
       "106  order         431    764   5.0   0.009468       0.067067        0.292005\n",
       "40    come         452    651   6.0   0.008067       0.075135        0.306233\n",
       "39   drink         363    611   7.0   0.007572       0.082706        0.245935\n",
       "470   time         419    607   8.0   0.007522       0.090229        0.283875\n",
       "56   check         489    527   9.0   0.006531       0.096759        0.331301\n",
       "150   food         321    499  10.0   0.006184       0.102943        0.217480"
      ]
     },
     "execution_count": 50,
     "metadata": {},
     "output_type": "execute_result"
    }
   ],
   "source": [
    "bad.head(10)"
   ]
  },
  {
   "cell_type": "code",
   "execution_count": 51,
   "metadata": {},
   "outputs": [],
   "source": [
    "# Get top 15 words used in good reviews\n",
    "good_15 = good[good['rank'] <= 15]"
   ]
  },
  {
   "cell_type": "code",
   "execution_count": 52,
   "metadata": {},
   "outputs": [],
   "source": [
    "# Get top 15 words used in bad reviews\n",
    "bad_15 = bad[bad['rank'] <= 15]"
   ]
  },
  {
   "cell_type": "code",
   "execution_count": 53,
   "metadata": {},
   "outputs": [
    {
     "data": {
      "image/png": "[encoded data removed]",
      "text/plain": [
       "<Figure size 432x288 with 1 Axes>"
      ]
     },
     "metadata": {
      "needs_background": "light"
     },
     "output_type": "display_data"
    }
   ],
   "source": [
    "squarify.plot(sizes=good_15['pct_total'], label=good_15['word'], alpha=0.7)\n",
    "plt.title('Top 15 words of Good Reviews')\n",
    "plt.axis('off')\n",
    "plt.show()"
   ]
  },
  {
   "cell_type": "code",
   "execution_count": 54,
   "metadata": {},
   "outputs": [
    {
     "data": {
      "image/png": "[encoded data removed]",
      "text/plain": [
       "<Figure size 432x288 with 1 Axes>"
      ]
     },
     "metadata": {
      "needs_background": "light"
     },
     "output_type": "display_data"
    }
   ],
   "source": [
    "squarify.plot(sizes=bad_15['pct_total'], label=bad_15['word'], alpha=0.7)\n",
    "plt.title('Top 15 words of Bad Reviews')\n",
    "plt.axis('off')\n",
    "plt.show()"
   ]
  },
  {
   "cell_type": "markdown",
   "metadata": {
    "colab_type": "text",
    "id": "1dCb1q8XphcP",
    "toc-hr-collapsed": true
   },
   "source": [
    "## Stretch Goals\n",
    "\n",
    "* Analyze another corpus of documents - such as Indeed.com job listings ;).\n",
    "* Play with the Spacy API to\n",
    " - Extract Named Entities\n",
    " - Extracting 'noun chunks'\n",
    " - Attempt Document Classification with just Spacy\n",
    " - *Note:* This [course](https://course.spacy.io/) will be of interesting in helping you with these stretch goals. \n",
    "* Try to build a plotly dash app with your text data \n",
    "\n"
   ]
  }
 ],
 "metadata": {
  "colab": {
   "collapsed_sections": [],
   "name": "LS_DS_421_Text_Data_Assignment.ipynb",
   "provenance": [],
   "version": "0.3.2"
  },
  "kernelspec": {
   "display_name": "NLP (Python3)",
   "language": "python",
   "name": "nlp"
  },
  "language_info": {
   "codemirror_mode": {
    "name": "ipython",
    "version": 3
   },
   "file_extension": ".py",
   "mimetype": "text/x-python",
   "name": "python",
   "nbconvert_exporter": "python",
   "pygments_lexer": "ipython3",
   "version": "3.7.3"
  },
  "toc-autonumbering": false
 },
 "nbformat": 4,
 "nbformat_minor": 4
}
